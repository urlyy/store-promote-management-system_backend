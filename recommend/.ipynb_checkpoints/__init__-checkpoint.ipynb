{
 "cells": [
  {
   "cell_type": "code",
   "execution_count": 1,
   "metadata": {
    "pycharm": {
     "name": "#%%\n"
    }
   },
   "outputs": [
    {
     "name": "stderr",
     "output_type": "stream",
     "text": [
      "C:\\Users\\22137\\AppData\\Local\\Temp\\ipykernel_26796\\3031763483.py:1: DeprecationWarning: \n",
      "Pyarrow will become a required dependency of pandas in the next major release of pandas (pandas 3.0),\n",
      "(to allow more performant data types, such as the Arrow string type, and better interoperability with other libraries)\n",
      "but was not found to be installed on your system.\n",
      "If this would cause problems for you,\n",
      "please provide us feedback at https://github.com/pandas-dev/pandas/issues/54466\n",
      "        \n",
      "  import pandas as pd\n",
      "D:\\IDEandEVR\\anaconda\\envs\\qpr\\lib\\site-packages\\lightfm\\_lightfm_fast.py:9: UserWarning: LightFM was compiled without OpenMP support. Only a single thread will be used.\n",
      "  warnings.warn(\n"
     ]
    }
   ],
   "source": [
    "import pandas as pd\n",
    "import numpy as np\n",
    "from scipy import sparse\n",
    "from lightfm import LightFM"
   ]
  },
  {
   "cell_type": "code",
   "execution_count": 2,
   "metadata": {
    "collapsed": false,
    "jupyter": {
     "outputs_hidden": false
    },
    "pycharm": {
     "is_executing": true,
     "name": "#%%\n"
    }
   },
   "outputs": [
    {
     "data": {
      "text/plain": [
       "[('u1', 'i1', 1),\n",
       " ('u1', 'i3', 2),\n",
       " ('u2', 'i2', 1),\n",
       " ('u2', 'i3', 3),\n",
       " ('u3', 'i1', 4),\n",
       " ('u3', 'i4', 5),\n",
       " ('u3', 'i2', 2)]"
      ]
     },
     "execution_count": 2,
     "metadata": {},
     "output_type": "execute_result"
    }
   ],
   "source": [
    "interaction = [('u1', 'i1', 1), ('u1', 'i3', 2), ('u2', 'i2', 1), ('u2', 'i3', 3),\n",
    "               ('u3', 'i1', 4), ('u3', 'i4', 5), ('u3', 'i2', 2)]\n",
    "# 3user 4item 5种rate\n",
    "interaction"
   ]
  },
  {
   "cell_type": "code",
   "execution_count": 3,
   "metadata": {
    "collapsed": false,
    "jupyter": {
     "outputs_hidden": false
    },
    "pycharm": {
     "name": "#%%\n"
    }
   },
   "outputs": [
    {
     "data": {
      "text/plain": [
       "[('u1', {'f1': 5, 'f2': 2, 'f3': 1}),\n",
       " ('u2', {'f1': 0, 'f2': 1, 'f3': 3}),\n",
       " ('u3', {'f1': 4, 'f2': 3, 'f3': 3})]"
      ]
     },
     "execution_count": 3,
     "metadata": {},
     "output_type": "execute_result"
    }
   ],
   "source": [
    "user_data = [('u1', {'f1': 5, 'f2': 2, 'f3': 1}),\n",
    " ('u2', {'f1': 0, 'f2': 1, 'f3': 3}),\n",
    " ('u3', {'f1': 4, 'f2': 3, 'f3': 3})]\n",
    "user_data"
   ]
  },
  {
   "cell_type": "code",
   "execution_count": 4,
   "metadata": {
    "pycharm": {
     "name": "#%%\n"
    }
   },
   "outputs": [
    {
     "name": "stdout",
     "output_type": "stream",
     "text": [
      "{'u3', 'u2', 'u1'} {'i1', 'i2', 'i4', 'i3'} ['f1', 'f2', 'f3']\n"
     ]
    }
   ],
   "source": [
    "users = set(map(lambda i:i[0],interaction))\n",
    "items = set(map(lambda i:i[1],interaction))\n",
    "user_features = ['f1','f2','f3']\n",
    "print(users,items,user_features)"
   ]
  },
  {
   "cell_type": "code",
   "execution_count": 5,
   "metadata": {
    "collapsed": false,
    "jupyter": {
     "outputs_hidden": false
    },
    "pycharm": {
     "name": "#%%\n"
    }
   },
   "outputs": [
    {
     "data": {
      "text/plain": [
       "({'u3': 0, 'u2': 1, 'u1': 2},\n",
       " {'u3': 0, 'u2': 1, 'u1': 2, 'f1': 3, 'f2': 4, 'f3': 5},\n",
       " {'i1': 0, 'i2': 1, 'i4': 2, 'i3': 3},\n",
       " {'i1': 0, 'i2': 1, 'i4': 2, 'i3': 3})"
      ]
     },
     "execution_count": 5,
     "metadata": {},
     "output_type": "execute_result"
    }
   ],
   "source": [
    "from lightfm.data import Dataset\n",
    "# we call fit to supply user id, item id and user/item features\n",
    "dataset1 = Dataset()\n",
    "dataset1.fit_partial(users=users,items=items,user_features=user_features)\n",
    "dataset1.mapping()"
   ]
  },
  {
   "cell_type": "code",
   "execution_count": 6,
   "metadata": {},
   "outputs": [
    {
     "data": {
      "text/plain": [
       "matrix([[0.09090909, 0.        , 0.        , 0.36363637, 0.27272728,\n",
       "         0.27272728],\n",
       "        [0.        , 0.2       , 0.        , 0.        , 0.2       ,\n",
       "         0.6       ],\n",
       "        [0.        , 0.        , 0.11111111, 0.5555556 , 0.22222222,\n",
       "         0.11111111]], dtype=float32)"
      ]
     },
     "execution_count": 6,
     "metadata": {},
     "output_type": "execute_result"
    }
   ],
   "source": [
    "# 构造用户特征矩阵\n",
    "uf = dataset1.build_user_features(user_data)\n",
    "uf.todense()"
   ]
  },
  {
   "cell_type": "code",
   "execution_count": 7,
   "metadata": {},
   "outputs": [
    {
     "data": {
      "text/plain": [
       "matrix([[1, 1, 1, 0],\n",
       "        [0, 1, 0, 1],\n",
       "        [1, 0, 0, 1]])"
      ]
     },
     "execution_count": 7,
     "metadata": {},
     "output_type": "execute_result"
    }
   ],
   "source": [
    "# 构造交互矩阵\n",
    "(interactions, weights) = dataset1.build_interactions(interaction)\n",
    "interactions.todense()"
   ]
  },
  {
   "cell_type": "code",
   "execution_count": 8,
   "metadata": {},
   "outputs": [
    {
     "data": {
      "text/plain": [
       "<lightfm.lightfm.LightFM at 0x22257c6ded0>"
      ]
     },
     "execution_count": 8,
     "metadata": {},
     "output_type": "execute_result"
    }
   ],
   "source": [
    "model = LightFM(loss='logistic')\n",
    "# 下面的参数ubuntu上可运行，效果更好\n",
    "# 参考 https://github.com/lyst/lightfm/issues/690\n",
    "# model = LightFM(loss='warp')\n",
    "\n",
    "model.fit(interactions,\n",
    "      user_features= uf, \n",
    "      sample_weight= weights,\n",
    "      epochs=10)"
   ]
  },
  {
   "cell_type": "code",
   "execution_count": 9,
   "metadata": {},
   "outputs": [
    {
     "name": "stdout",
     "output_type": "stream",
     "text": [
      "Hybrid training set AUC: 0.5\n"
     ]
    }
   ],
   "source": [
    "from lightfm.evaluation import auc_score\n",
    "# 测试一下好像是\n",
    "train_auc = auc_score(model,\n",
    "                      interactions,\n",
    "                      user_features=uf\n",
    "                     ).mean()\n",
    "print('Hybrid training set AUC: %s' % train_auc)\n"
   ]
  },
  {
   "cell_type": "code",
   "execution_count": 10,
   "metadata": {
    "collapsed": false,
    "jupyter": {
     "outputs_hidden": false
    },
    "pycharm": {
     "name": "#%%\n"
    }
   },
   "outputs": [],
   "source": [
    "user_id_map, user_feature_map, item_id_map, item_feature_map = dataset1.mapping()"
   ]
  },
  {
   "cell_type": "code",
   "execution_count": 14,
   "metadata": {
    "collapsed": false,
    "jupyter": {
     "outputs_hidden": false
    },
    "pycharm": {
     "name": "#%%\n"
    }
   },
   "outputs": [
    {
     "data": {
      "text/plain": [
       "[(3, 0.5297617), (0, 0.51895887), (2, 0.4935133), (1, 0.46990803)]"
      ]
     },
     "execution_count": 14,
     "metadata": {},
     "output_type": "execute_result"
    }
   ],
   "source": [
    "# 预测现有的用户\n",
    "# 注意输入的id必须要转换为lightfm内部的id\n",
    "user_x = user_id_map['u3']\n",
    "# 即对于该用户，看所有物品和他的匹配度\n",
    "items_range = np.arange(len(items))\n",
    "res = model.predict(user_x, items_range)\n",
    "res = list(zip(items_range,res))\n",
    "res = sorted(res, key=lambda x: x[1],reverse=True)\n",
    "res"
   ]
  },
  {
   "cell_type": "code",
   "execution_count": null,
   "metadata": {},
   "outputs": [],
   "source": []
  }
 ],
 "metadata": {
  "kernelspec": {
   "display_name": "Python 3 (ipykernel)",
   "language": "python",
   "name": "python3"
  },
  "language_info": {
   "codemirror_mode": {
    "name": "ipython",
    "version": 3
   },
   "file_extension": ".py",
   "mimetype": "text/x-python",
   "name": "python",
   "nbconvert_exporter": "python",
   "pygments_lexer": "ipython3",
   "version": "3.10.13"
  }
 },
 "nbformat": 4,
 "nbformat_minor": 4
}
