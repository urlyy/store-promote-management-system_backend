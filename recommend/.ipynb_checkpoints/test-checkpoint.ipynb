{
 "cells": [
  {
   "cell_type": "code",
   "execution_count": 1,
   "metadata": {
    "pycharm": {
     "is_executing": true,
     "name": "#%%\n"
    }
   },
   "outputs": [
    {
     "name": "stderr",
     "output_type": "stream",
     "text": [
      "C:\\Users\\22137\\AppData\\Local\\Temp\\ipykernel_39836\\2111524250.py:3: DeprecationWarning: \n",
      "Pyarrow will become a required dependency of pandas in the next major release of pandas (pandas 3.0),\n",
      "(to allow more performant data types, such as the Arrow string type, and better interoperability with other libraries)\n",
      "but was not found to be installed on your system.\n",
      "If this would cause problems for you,\n",
      "please provide us feedback at https://github.com/pandas-dev/pandas/issues/54466\n",
      "        \n",
      "  import pandas as pd\n"
     ]
    }
   ],
   "source": [
    "import csv\n",
    "import requests\n",
    "import pandas as pd\n",
    "\n",
    "def get_ratings():\n",
    "\n",
    "    return pd.read_csv('./data/ratings.csv')\n",
    "\n",
    "\n",
    "def get_book_features():\n",
    "\n",
    "    return pd.read_csv('./data/books.csv')\n",
    "\n",
    "ratings, book_features = get_ratings(),get_book_features()"
   ]
  },
  {
   "cell_type": "code",
   "execution_count": 2,
   "metadata": {
    "collapsed": false,
    "jupyter": {
     "outputs_hidden": false
    },
    "pycharm": {
     "name": "#%%\n"
    }
   },
   "outputs": [],
   "source": [
    "print(ratings.columns)\n",
    "print(book_features.columns)"
   ]
  },
  {
   "cell_type": "code",
   "execution_count": 14,
   "metadata": {},
   "outputs": [
    {
     "name": "stdout",
     "output_type": "stream",
     "text": [
      "{1, 2, 4, 6, 8}\n",
      "{2, 5, 8, 13, 4622, 14, 529, 18, 21, 23, 24, 2584, 26, 27, 28, 32, 33, 35, 36, 42, 45, 47, 50, 6195, 3638, 55, 58, 575, 65, 70, 9296, 84, 86, 87, 1117, 614, 103, 102, 111, 113, 123, 2172, 2686, 640, 145, 660, 158, 3753, 2732, 2738, 693, 184, 194, 200, 6351, 1237, 219, 222, 249, 255, 258, 260, 772, 1796, 264, 778, 268, 2318, 1296, 287, 297, 301, 5425, 315, 325, 8519, 337, 350, 867, 362, 373, 388, 1937, 1432, 9114, 413, 1967, 5556, 964, 3020, 476, 479, 492, 493, 495, 4081} 96\n"
     ]
    }
   ],
   "source": [
    "user_ids = [row['user_id'] for _,row in ratings.iterrows()]\n",
    "print(set(user_ids))\n",
    "book_ids = [row['book_id'] for _,row in ratings.iterrows()]\n",
    "print(len(set(book_ids)))"
   ]
  },
  {
   "cell_type": "code",
   "execution_count": 15,
   "metadata": {
    "collapsed": false,
    "jupyter": {
     "outputs_hidden": false
    },
    "pycharm": {
     "name": "#%%\n"
    }
   },
   "outputs": [
    {
     "name": "stdout",
     "output_type": "stream",
     "text": [
      "{258: 0, 4081: 1, 260: 2, 9296: 3, 2318: 4, 26: 5, 315: 6, 33: 7, 301: 8, 2686: 9, 3753: 10, 8519: 11, 70: 12, 264: 13, 388: 14, 18: 15, 27: 16, 21: 17, 2: 18, 23: 19, 24: 20, 964: 21, 103: 22, 255: 23, 35: 24, 287: 25, 337: 26, 84: 27, 58: 28, 1117: 29, 660: 30, 111: 31, 5: 32, 413: 33, 8: 34, 2172: 35, 65: 36, 297: 37, 45: 38, 113: 39, 325: 40, 476: 41, 6351: 42, 2732: 43, 1432: 44, 479: 45, 3020: 46, 6195: 47, 614: 48, 4622: 49, 9114: 50, 194: 51, 14: 52, 2584: 53, 55: 54, 772: 55, 778: 56, 1937: 57, 493: 58, 362: 59, 1967: 60, 529: 61, 5425: 62, 1237: 63, 145: 64, 36: 65, 102: 66, 222: 67, 200: 68, 13: 69, 640: 70, 693: 71, 575: 72, 268: 73, 5556: 74, 3638: 75, 1796: 76, 867: 77, 47: 78, 2738: 79, 1296: 80, 50: 81, 87: 82, 86: 83, 123: 84, 32: 85, 28: 86, 42: 87, 249: 88, 158: 89, 373: 90, 184: 91, 495: 92, 350: 93, 492: 94, 219: 95}\n"
     ]
    }
   ],
   "source": [
    "from lightfm.data import Dataset\n",
    "\n",
    "dataset = Dataset()\n",
    "\n",
    "dataset.fit_partial((row['user_id'] for _,row in ratings.iterrows()),\n",
    "                    (row['book_id'] for _,row in ratings.iterrows()))\n",
    "\n",
    "# dataset.fit_partial(items=(row['book_id'] for _,row in book_features.iterrows()),\n",
    "#                     item_features=(row['authors'] for _,row in book_features.iterrows()))\n",
    "# print(dataset.mapping()[2])"
   ]
  },
  {
   "cell_type": "code",
   "execution_count": 13,
   "metadata": {},
   "outputs": [
    {
     "name": "stdout",
     "output_type": "stream",
     "text": [
      "{258: 0, 4081: 1, 260: 2, 9296: 3, 2318: 4, 26: 5, 315: 6, 33: 7, 301: 8, 2686: 9, 3753: 10, 8519: 11, 70: 12, 264: 13, 388: 14, 18: 15, 27: 16, 21: 17, 2: 18, 23: 19, 24: 20, 964: 21, 103: 22, 255: 23, 35: 24, 287: 25, 337: 26, 84: 27, 58: 28, 1117: 29, 660: 30, 111: 31, 5: 32, 413: 33, 8: 34, 2172: 35, 65: 36, 297: 37, 45: 38, 113: 39, 325: 40, 476: 41, 6351: 42, 2732: 43, 1432: 44, 479: 45, 3020: 46, 6195: 47, 614: 48, 4622: 49, 9114: 50, 194: 51, 14: 52, 2584: 53, 55: 54, 772: 55, 778: 56, 1937: 57, 493: 58, 362: 59, 1967: 60, 529: 61, 5425: 62, 1237: 63, 145: 64, 36: 65, 102: 66, 222: 67, 200: 68, 13: 69, 640: 70, 693: 71, 575: 72, 268: 73, 5556: 74, 3638: 75, 1796: 76, 867: 77, 47: 78, 2738: 79, 1296: 80, 50: 81, 87: 82, 86: 83, 123: 84, 32: 85, 28: 86, 42: 87, 249: 88, 158: 89, 373: 90, 184: 91, 495: 92, 350: 93, 492: 94, 219: 95, 1: 96, 3: 97, 4: 98, 6: 99, 7: 100, 9: 101, 10: 102, 11: 103, 12: 104, 15: 105, 16: 106, 17: 107, 19: 108, 20: 109, 22: 110, 25: 111, 29: 112, 30: 113, 31: 114, 34: 115, 37: 116, 38: 117, 39: 118, 40: 119, 41: 120, 43: 121, 44: 122, 46: 123, 48: 124, 49: 125, 51: 126, 52: 127, 53: 128, 54: 129, 56: 130, 57: 131, 59: 132, 60: 133, 61: 134, 62: 135, 63: 136, 64: 137, 66: 138, 67: 139, 68: 140, 69: 141, 71: 142, 72: 143, 73: 144, 74: 145, 75: 146, 76: 147, 77: 148, 78: 149, 79: 150, 80: 151, 81: 152, 82: 153, 83: 154, 85: 155, 88: 156, 89: 157, 90: 158, 91: 159, 92: 160, 93: 161, 94: 162, 95: 163, 96: 164, 97: 165, 98: 166, 99: 167}\n"
     ]
    }
   ],
   "source": []
  },
  {
   "cell_type": "code",
   "execution_count": null,
   "metadata": {},
   "outputs": [],
   "source": [
    "num_users, num_items = dataset.interactions_shape()\n",
    "# print('Num users: {}, num_items {}.'.format(num_users, num_items))"
   ]
  },
  {
   "cell_type": "code",
   "execution_count": null,
   "metadata": {},
   "outputs": [],
   "source": [
    "\n",
    "(interactions, weights) = dataset.build_interactions(((row['user_id'], row['book_id'])\n",
    "                                                      for _,row in ratings.iterrows()))\n",
    "\n",
    "print(repr(interactions))\n",
    "\n",
    "item_features = dataset.build_item_features(((row['book_id'], [row['authors']])\n",
    "                                              for idx,row in book_features.iterrows()))\n",
    "print(repr(item_features))\n",
    "\n",
    "print()\n",
    "\n",
    "from lightfm import LightFM\n",
    "\n",
    "model = LightFM(loss='bpr')\n",
    "model.fit(interactions, item_features=item_features,epochs=10)\n"
   ]
  }
 ],
 "metadata": {
  "kernelspec": {
   "display_name": "Python 3 (ipykernel)",
   "language": "python",
   "name": "python3"
  },
  "language_info": {
   "codemirror_mode": {
    "name": "ipython",
    "version": 3
   },
   "file_extension": ".py",
   "mimetype": "text/x-python",
   "name": "python",
   "nbconvert_exporter": "python",
   "pygments_lexer": "ipython3",
   "version": "3.10.13"
  }
 },
 "nbformat": 4,
 "nbformat_minor": 4
}
