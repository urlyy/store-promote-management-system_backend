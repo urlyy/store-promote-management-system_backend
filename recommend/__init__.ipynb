{
 "cells": [
  {
   "cell_type": "code",
   "execution_count": 1,
   "metadata": {
    "pycharm": {
     "name": "#%%\n"
    }
   },
   "outputs": [
    {
     "name": "stderr",
     "output_type": "stream",
     "text": [
      "C:\\Users\\22137\\AppData\\Local\\Temp\\ipykernel_26796\\3031763483.py:1: DeprecationWarning: \n",
      "Pyarrow will become a required dependency of pandas in the next major release of pandas (pandas 3.0),\n",
      "(to allow more performant data types, such as the Arrow string type, and better interoperability with other libraries)\n",
      "but was not found to be installed on your system.\n",
      "If this would cause problems for you,\n",
      "please provide us feedback at https://github.com/pandas-dev/pandas/issues/54466\n",
      "        \n",
      "  import pandas as pd\n",
      "D:\\IDEandEVR\\anaconda\\envs\\qpr\\lib\\site-packages\\lightfm\\_lightfm_fast.py:9: UserWarning: LightFM was compiled without OpenMP support. Only a single thread will be used.\n",
      "  warnings.warn(\n"
     ]
    }
   ],
   "source": [
    "import pandas as pd\n",
    "import numpy as np\n",
    "from scipy import sparse\n",
    "from lightfm import LightFM"
   ]
  },
  {
   "cell_type": "code",
   "execution_count": 2,
   "metadata": {
    "collapsed": false,
    "jupyter": {
     "outputs_hidden": false
    },
    "pycharm": {
     "is_executing": true,
     "name": "#%%\n"
    }
   },
   "outputs": [
    {
     "data": {
      "text/plain": [
       "[('u1', 'i1', 1),\n",
       " ('u1', 'i3', 2),\n",
       " ('u2', 'i2', 1),\n",
       " ('u2', 'i3', 3),\n",
       " ('u3', 'i1', 4),\n",
       " ('u3', 'i4', 5),\n",
       " ('u3', 'i2', 2)]"
      ]
     },
     "execution_count": 2,
     "metadata": {},
     "output_type": "execute_result"
    }
   ],
   "source": [
    "interaction = [('u1', 'i1', 1), ('u1', 'i3', 2), ('u2', 'i2', 1), ('u2', 'i3', 3),\n",
    "               ('u3', 'i1', 4), ('u3', 'i4', 5), ('u3', 'i2', 2)]\n",
    "# 3user 4item 5种rate\n",
    "interaction"
   ]
  },
  {
   "cell_type": "code",
   "execution_count": null,
   "outputs": [],
   "source": [
    "user_data = [('u1', {'f1': 5, 'f2': 2, 'f3': 1}),\n",
    " ('u2', {'f1': 0, 'f2': 1, 'f3': 3}),\n",
    " ('u3', {'f1': 4, 'f2': 3, 'f3': 3})]\n",
    "user_data"
   ],
   "metadata": {
    "collapsed": false,
    "pycharm": {
     "name": "#%%\n"
    }
   }
  },
  {
   "cell_type": "code",
   "execution_count": null,
   "outputs": [],
   "source": [
    "users = set(map(lambda i:i[0],interaction))\n",
    "items = set(map(lambda i:i[1],interaction))\n",
    "user_features = ['f1','f2','f3']\n",
    "print(users,items,user_features)"
   ],
   "metadata": {
    "collapsed": false,
    "pycharm": {
     "name": "#%%\n"
    }
   }
  },
  {
   "cell_type": "code",
   "execution_count": null,
   "outputs": [],
   "source": [
    "from lightfm.data import Dataset\n",
    "# we call fit to supply user id, item id and user/item features\n",
    "dataset1 = Dataset()\n",
    "dataset1.fit_partial(users=users,items=items,user_features=user_features)\n",
    "dataset1.mapping()"
   ],
   "metadata": {
    "collapsed": false,
    "pycharm": {
     "name": "#%%\n"
    }
   }
  },
  {
   "cell_type": "code",
   "execution_count": null,
   "outputs": [],
   "source": [
    "# 构造用户特征矩阵\n",
    "uf = dataset1.build_user_features(user_data)\n",
    "uf.todense()"
   ],
   "metadata": {
    "collapsed": false,
    "pycharm": {
     "name": "#%%\n"
    }
   }
  },
  {
   "cell_type": "code",
   "execution_count": null,
   "outputs": [],
   "source": [
    "# 构造交互矩阵\n",
    "(interactions, weights) = dataset1.build_interactions(interaction)\n",
    "interactions.todense()"
   ],
   "metadata": {
    "collapsed": false,
    "pycharm": {
     "name": "#%%\n"
    }
   }
  },
  {
   "cell_type": "code",
   "execution_count": null,
   "outputs": [],
   "source": [
    "model = LightFM(loss='logistic')\n",
    "# 下面的参数ubuntu上可运行，效果更好\n",
    "# 参考 https://github.com/lyst/lightfm/issues/690\n",
    "# model = LightFM(loss='warp')\n",
    "\n",
    "model.fit(interactions,\n",
    "      user_features= uf, \n",
    "      sample_weight= weights,\n",
    "      epochs=10)"
   ],
   "metadata": {
    "collapsed": false,
    "pycharm": {
     "name": "#%%\n"
    }
   }
  },
  {
   "cell_type": "code",
   "execution_count": null,
   "outputs": [],
   "source": [
    "from lightfm.evaluation import auc_score\n",
    "# 测试一下好像是\n",
    "train_auc = auc_score(model,\n",
    "                      interactions,\n",
    "                      user_features=uf\n",
    "                     ).mean()\n",
    "print('Hybrid training set AUC: %s' % train_auc)\n"
   ],
   "metadata": {
    "collapsed": false,
    "pycharm": {
     "name": "#%%\n"
    }
   }
  },
  {
   "cell_type": "code",
   "execution_count": null,
   "outputs": [],
   "source": [
    "user_id_map, user_feature_map, item_id_map, item_feature_map = dataset1.mapping()"
   ],
   "metadata": {
    "collapsed": false,
    "pycharm": {
     "name": "#%%\n"
    }
   }
  },
  {
   "cell_type": "code",
   "execution_count": null,
   "outputs": [],
   "source": [
    "# 预测现有的用户\n",
    "# 注意输入的id必须要转换为lightfm内部的id\n",
    "user_x = user_id_map['u3']\n",
    "# 即对于该用户，看所有物品和他的匹配度\n",
    "items_range = np.arange(len(items))\n",
    "res = model.predict(user_x, items_range)\n",
    "res = list(zip(items_range,res))\n",
    "res = sorted(res, key=lambda x: x[1],reverse=True)\n",
    "res"
   ],
   "metadata": {
    "collapsed": false,
    "pycharm": {
     "name": "#%%\n"
    }
   }
  }
 ],
 "metadata": {
  "kernelspec": {
   "display_name": "Python 3 (ipykernel)",
   "language": "python",
   "name": "python3"
  },
  "language_info": {
   "codemirror_mode": {
    "name": "ipython",
    "version": 3
   },
   "file_extension": ".py",
   "mimetype": "text/x-python",
   "name": "python",
   "nbconvert_exporter": "python",
   "pygments_lexer": "ipython3",
   "version": "3.10.13"
  }
 },
 "nbformat": 4,
 "nbformat_minor": 4
}